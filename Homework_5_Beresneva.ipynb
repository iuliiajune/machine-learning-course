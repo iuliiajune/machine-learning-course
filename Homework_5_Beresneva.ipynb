{
 "cells": [
  {
   "cell_type": "markdown",
   "metadata": {},
   "source": [
    "# ДЗ №5 Береснева Юлия\n",
    "\n",
    "- Data set is \"Meta-data Data Set\" https://archive.ics.uci.edu/ml/datasets/Meta-data\n",
    "- Relevant Information: \n",
    "> This DataSet is about the results of Statlog project. The project performed a comparative study between Statistical, Neural and Symbolic learning algorithms. \n",
    "- Number of Instances: 528\n",
    "- Number of Attributes: 22\n",
    "- Attribute Information:\n",
    " - `DS_Name` - Name of DataSet - название набора данных\n",
    " - `T` - Number of examples in test set - количество примеров в тестовом наборе\n",
    " - `N` - Number of examples - количесвто примеров\n",
    " - `p` - Number of attributes - количесвто атрибутов\n",
    " - `k` - Number of classes - количество классов\n",
    " - `Bin` - Number of binary Attributes - количество бинарных атрибутов\n",
    " - `Cost` - Cost ( `1 = yes`,`0 = no`) - стоимость\n",
    " - `SDratio` - Standard deviation ratio - коэффициент стандартного отклонения\n",
    " - `correl`- Mean correlation between attributes - средняя корреляция между атрибутами\n",
    " - `cancor1` - First canonical correlation - Первая каноническая корреляция\n",
    " - `cancor2` - Second canonical correlation - Вторая каноническая корреляция\n",
    " - `fract1` - First eigenvalue - первое собственное значение\n",
    " - `fract2` - Second eigenvalue - второе собственное значение\n",
    " - `skewness` - Mean of $ \\frac{|E(x - Mean)|^3}{STD^3} $ - асимметрия -  среднее значение $ \\frac{|E(x - Mean)|^3}{STD^3} $\n",
    " - `kurtosis` - Mean of $ \\frac{|E(x - Mean)|^4}{STD^4} $ - среднее значение $ \\frac{|E(x - Mean)|^4}{STD^4} $ \n",
    " - `Hc` - Mean entropy of attributes - средняя энтропия атрибутов\n",
    " - `Hx`- Entropy of classes - энтропия классов\n",
    " - `MCx` - Mean mutual entropy of class and attributes - средняя взаимная энтропия класса и атрибутов\n",
    " - `EnAtr` - Equivalent number of attributes - Эквивалентное количество атрибутов\n",
    " - `NSRatio` - Noise-signal ratio - Отношение сигнал / шум\n",
    " - `Alg_Name` - Name of Algorithm -  имя алгоритма\n",
    " - `Norm_error` - Normalized Error (continuous class) - нормализованная ошибка (непрерывный класс)"
   ]
  },
  {
   "cell_type": "code",
   "execution_count": 1,
   "metadata": {
    "collapsed": true
   },
   "outputs": [],
   "source": [
    "import numpy as np\n",
    "import matplotlib.pyplot as plt\n",
    "import pandas as pd\n",
    "%matplotlib inline"
   ]
  },
  {
   "cell_type": "code",
   "execution_count": 2,
   "metadata": {
    "collapsed": true
   },
   "outputs": [],
   "source": [
    "#url = 'https://archive.ics.uci.edu/ml/machine-learning-databases/meta-data/meta.data'\n",
    "#data = pd.read_csv(url, sep = ',', engine='python')\n",
    "data = pd.read_csv('../source/meta1.data', sep = ',', engine = 'python')"
   ]
  },
  {
   "cell_type": "code",
   "execution_count": 3,
   "metadata": {
    "collapsed": true
   },
   "outputs": [],
   "source": [
    "c1 = data[data['Alg_Name'] == 'KNN']\n",
    "c2 = data[data['Alg_Name'] == 'CART']\n",
    "c3 = data[data['Alg_Name'] == 'LVQ']\n",
    "c4 = data[data['Alg_Name'] == 'Cascade']\n",
    "c5 = data[data['Alg_Name'] == 'Smart']"
   ]
  },
  {
   "cell_type": "code",
   "execution_count": 4,
   "metadata": {
    "collapsed": true
   },
   "outputs": [],
   "source": [
    "data = pd.concat((c1, c2, c3, c4, c5), axis = 0)"
   ]
  },
  {
   "cell_type": "code",
   "execution_count": 5,
   "metadata": {},
   "outputs": [
    {
     "name": "stdout",
     "output_type": "stream",
     "text": [
      "['KNN' 'CART' 'LVQ' 'Cascade' 'Smart']\n"
     ]
    }
   ],
   "source": [
    "X = data.drop(['DS_Name', 'correl', 'cancor2', 'fract2', 'Alg_Name'], axis = 1) # выбрасываем столбцы\n",
    "y = data['Alg_Name']\n",
    "print(y.unique())"
   ]
  },
  {
   "cell_type": "markdown",
   "metadata": {},
   "source": [
    "Обрабатываем `y`"
   ]
  },
  {
   "cell_type": "code",
   "execution_count": 6,
   "metadata": {},
   "outputs": [
    {
     "data": {
      "text/plain": [
       "LabelEncoder()"
      ]
     },
     "execution_count": 6,
     "metadata": {},
     "output_type": "execute_result"
    }
   ],
   "source": [
    "from sklearn import preprocessing\n",
    "le = preprocessing.LabelEncoder()\n",
    "le.fit(y.unique())"
   ]
  },
  {
   "cell_type": "code",
   "execution_count": 7,
   "metadata": {},
   "outputs": [
    {
     "name": "stdout",
     "output_type": "stream",
     "text": [
      "[2 2 2 2 2 2 2 2 2 2 2 2 2 2 2 2 2 2 2 2 2 2 0 0 0 0 0 0 0 0 0 0 0 0 0 0 0\n",
      " 0 0 0 0 0 0 0 3 3 3 3 3 3 3 3 3 3 3 3 3 3 3 3 3 3 3 3 3 3 1 1 1 1 1 1 1 1\n",
      " 1 1 1 1 1 1 1 1 1 1 1 1 1 1 4 4 4 4 4 4 4 4 4 4 4 4 4 4 4 4 4 4 4 4 4 4]\n"
     ]
    }
   ],
   "source": [
    "y_tr = le.transform(y)\n",
    "print(y_tr)"
   ]
  },
  {
   "cell_type": "markdown",
   "metadata": {},
   "source": [
    " Разбиваем данные на обучающую и тестовую выборки"
   ]
  },
  {
   "cell_type": "code",
   "execution_count": 8,
   "metadata": {
    "collapsed": true
   },
   "outputs": [],
   "source": [
    "from sklearn.model_selection import train_test_split\n",
    "X_train, X_test, y_train, y_test = train_test_split(X, y_tr, test_size = 0.33, random_state = 7)\n",
    "N_test, _ = X_test.shape"
   ]
  },
  {
   "cell_type": "code",
   "execution_count": 9,
   "metadata": {},
   "outputs": [
    {
     "name": "stdout",
     "output_type": "stream",
     "text": [
      "[4 1 1 0 1 3 0 2 0 1 0 2 0 3 4 3 4 0 0 2 4 4 0 1 0 0 3 2 1 2 4 4 2 2 0 1 0\n",
      " 3 3 3 1 0 3 1 3 4 3 2 2 3 1 2 3 2 3 4 0 2 4 0 4 1 4 2 3 4 4 0 1 1 0 1 3]\n"
     ]
    }
   ],
   "source": [
    "print(y_train)"
   ]
  },
  {
   "cell_type": "markdown",
   "metadata": {},
   "source": [
    "Массив с числом деревьев"
   ]
  },
  {
   "cell_type": "code",
   "execution_count": 10,
   "metadata": {
    "collapsed": true
   },
   "outputs": [],
   "source": [
    "c_arr = np.arange(1,100,1)"
   ]
  },
  {
   "cell_type": "markdown",
   "metadata": {},
   "source": [
    "# Random Forest"
   ]
  },
  {
   "cell_type": "code",
   "execution_count": 11,
   "metadata": {
    "collapsed": true
   },
   "outputs": [],
   "source": [
    "from sklearn.ensemble import RandomForestClassifier"
   ]
  },
  {
   "cell_type": "markdown",
   "metadata": {},
   "source": [
    "Массивы ошибок"
   ]
  },
  {
   "cell_type": "code",
   "execution_count": 12,
   "metadata": {
    "collapsed": true
   },
   "outputs": [],
   "source": [
    "test_err_RF = []\n",
    "train_err_RF = []\n",
    "oob_err_RF = []"
   ]
  },
  {
   "cell_type": "code",
   "execution_count": 13,
   "metadata": {
    "collapsed": true
   },
   "outputs": [],
   "source": [
    "import warnings\n",
    "warnings.filterwarnings('ignore')\n",
    "\n",
    "for c in c_arr:\n",
    "    RandomForest = RandomForestClassifier(n_estimators=c, warm_start = True, oob_score = True)\n",
    "    RandomForest.fit(X_train, y_train)\n",
    "    \n",
    "    y_train_pred = RandomForest.predict(X_train)\n",
    "    y_test_pred = RandomForest.predict(X_test)\n",
    "    \n",
    "    train_err_RF.append(np.mean(y_train != y_train_pred))\n",
    "    test_err_RF.append(np.mean(y_test != y_test_pred))\n",
    "    \n",
    "    oob_err_RF.append(1 - RandomForest.oob_score_)"
   ]
  },
  {
   "cell_type": "code",
   "execution_count": 14,
   "metadata": {},
   "outputs": [
    {
     "name": "stdout",
     "output_type": "stream",
     "text": [
      "0.027397260274 0.918918918919\n"
     ]
    }
   ],
   "source": [
    "print(np.mean(y_train != y_train_pred), np.mean(y_test != y_test_pred))"
   ]
  },
  {
   "cell_type": "code",
   "execution_count": 15,
   "metadata": {
    "scrolled": true
   },
   "outputs": [
    {
     "data": {
      "image/png": "[encoded data removed]",
      "text/plain": [
       "<matplotlib.figure.Figure at 0xad13160>"
      ]
     },
     "metadata": {},
     "output_type": "display_data"
    }
   ],
   "source": [
    "plt.plot(c_arr, train_err_RF, 'b-o', label = 'train')\n",
    "plt.plot(c_arr, test_err_RF, 'r-o', label = 'test')\n",
    "plt.plot(c_arr, oob_err_RF, 'g-o', label = 'oob')\n",
    "plt.title('Error vs. count of trees')\n",
    "plt.xlabel('count of trees')\n",
    "plt.ylabel('error')\n",
    "plt.legend()\n",
    "pass"
   ]
  },
  {
   "cell_type": "markdown",
   "metadata": {},
   "source": [
    "Минимальные значения ошибок на обучающей и тестовой выборке"
   ]
  },
  {
   "cell_type": "code",
   "execution_count": 16,
   "metadata": {},
   "outputs": [
    {
     "name": "stdout",
     "output_type": "stream",
     "text": [
      "0.027397260274 0.864864864865\n"
     ]
    }
   ],
   "source": [
    "min_train_err = np.min(train_err_RF)\n",
    "min_test_err_RF = np.min(test_err_RF)\n",
    "print(min_train_err, min_test_err_RF)"
   ]
  },
  {
   "cell_type": "markdown",
   "metadata": {},
   "source": [
    "Недообучение не наблюдается, поскольку достигаются достаточно малые значения на обучающей выборке\n",
    "Переобучение не наблюдается скорее всего, поскольку на графике ошибка на тестовой выборке колеблется от 0,8 до 1, но отсутствуют ее существенные скачки"
   ]
  },
  {
   "cell_type": "markdown",
   "metadata": {},
   "source": [
    "# Extremely Random Trees"
   ]
  },
  {
   "cell_type": "code",
   "execution_count": 17,
   "metadata": {
    "collapsed": true
   },
   "outputs": [],
   "source": [
    "from sklearn.ensemble import ExtraTreesClassifier"
   ]
  },
  {
   "cell_type": "markdown",
   "metadata": {},
   "source": [
    "Массивы ошибок"
   ]
  },
  {
   "cell_type": "code",
   "execution_count": 18,
   "metadata": {
    "collapsed": true
   },
   "outputs": [],
   "source": [
    "test_err_ERF = []\n",
    "train_err_ERF = []\n",
    "oob_err_ERF = []"
   ]
  },
  {
   "cell_type": "code",
   "execution_count": 19,
   "metadata": {
    "collapsed": true
   },
   "outputs": [],
   "source": [
    "import warnings\n",
    "warnings.filterwarnings('ignore')\n",
    "\n",
    "for c in c_arr:\n",
    "    ExtrRandomForest = ExtraTreesClassifier(n_estimators=c, bootstrap=True, oob_score = True)\n",
    "    ExtrRandomForest.fit(X_train, y_train)\n",
    "    \n",
    "    y_train_pred = ExtrRandomForest.predict(X_train)\n",
    "    y_test_pred = ExtrRandomForest.predict(X_test)\n",
    "    \n",
    "    train_err_ERF.append(np.mean(y_train != y_train_pred))\n",
    "    test_err_ERF.append(np.mean(y_test != y_test_pred))\n",
    "    \n",
    "    oob_err_ERF.append(1 - ExtrRandomForest.oob_score_)"
   ]
  },
  {
   "cell_type": "code",
   "execution_count": 20,
   "metadata": {
    "scrolled": true
   },
   "outputs": [
    {
     "data": {
      "image/png": "[encoded data removed]",
      "text/plain": [
       "<matplotlib.figure.Figure at 0xbd36978>"
      ]
     },
     "metadata": {},
     "output_type": "display_data"
    }
   ],
   "source": [
    "plt.plot(c_arr, train_err_ERF, 'b-o', label = 'train')\n",
    "plt.plot(c_arr, test_err_ERF, 'r-o', label = 'test')\n",
    "plt.plot(c_arr, oob_err_ERF, 'g-o', label = 'oob')\n",
    "plt.title('Error vs. count of trees')\n",
    "plt.xlabel('count of trees')\n",
    "plt.ylabel('error')\n",
    "plt.legend()\n",
    "pass"
   ]
  },
  {
   "cell_type": "markdown",
   "metadata": {},
   "source": [
    "Минимальные значения ошибок на обучающей и тестовой выборке"
   ]
  },
  {
   "cell_type": "code",
   "execution_count": 21,
   "metadata": {},
   "outputs": [
    {
     "name": "stdout",
     "output_type": "stream",
     "text": [
      "0.027397260274 0.891891891892\n"
     ]
    }
   ],
   "source": [
    "min_train_err = np.min(train_err_ERF)\n",
    "min_test_err_ERF = np.min(test_err_ERF)\n",
    "print(min_train_err, min_test_err_ERF)"
   ]
  },
  {
   "cell_type": "markdown",
   "metadata": {},
   "source": [
    "Недообучение не наблюдается, поскольку достигаются достаточно малые значения на обучающей выборке\n",
    "Переобучение не наблюдается скорее всего, поскольку на графике ошибка на тестовой выборке колеблется от 0,92 до 1, но отсутствуют ее существенные скачки"
   ]
  },
  {
   "cell_type": "markdown",
   "metadata": {},
   "source": [
    "# AdaBoost"
   ]
  },
  {
   "cell_type": "code",
   "execution_count": 22,
   "metadata": {
    "collapsed": true
   },
   "outputs": [],
   "source": [
    "from sklearn.ensemble import AdaBoostClassifier"
   ]
  },
  {
   "cell_type": "markdown",
   "metadata": {},
   "source": [
    "Массивы ошибок"
   ]
  },
  {
   "cell_type": "code",
   "execution_count": 23,
   "metadata": {
    "collapsed": true
   },
   "outputs": [],
   "source": [
    "test_err_AB = []\n",
    "train_err_AB = []\n",
    "oob_err_AB = []"
   ]
  },
  {
   "cell_type": "code",
   "execution_count": 24,
   "metadata": {
    "collapsed": true
   },
   "outputs": [],
   "source": [
    "import warnings\n",
    "warnings.filterwarnings('ignore')\n",
    "\n",
    "for c in c_arr:\n",
    "    AB = AdaBoostClassifier(n_estimators = c)\n",
    "    AB.fit(X_train, y_train)\n",
    "    \n",
    "    y_train_pred = AB.predict(X_train)\n",
    "    y_test_pred = AB.predict(X_test)\n",
    "    \n",
    "    train_err_AB.append(np.mean(y_train != y_train_pred))\n",
    "    test_err_AB.append(np.mean(y_test != y_test_pred))"
   ]
  },
  {
   "cell_type": "code",
   "execution_count": 25,
   "metadata": {},
   "outputs": [
    {
     "name": "stdout",
     "output_type": "stream",
     "text": [
      "0.575342465753 0.864864864865\n"
     ]
    }
   ],
   "source": [
    "print(np.mean(y_train != y_train_pred), np.mean(y_test != y_test_pred))"
   ]
  },
  {
   "cell_type": "code",
   "execution_count": 26,
   "metadata": {
    "scrolled": true
   },
   "outputs": [
    {
     "data": {
      "image/png": "[encoded data removed]",
      "text/plain": [
       "<matplotlib.figure.Figure at 0x9852160>"
      ]
     },
     "metadata": {},
     "output_type": "display_data"
    }
   ],
   "source": [
    "plt.plot(c_arr, train_err_AB, 'b-o', label = 'train')\n",
    "plt.plot(c_arr, test_err_AB, 'r-o', label = 'test')\n",
    "#plt.plot(c_arr, oob_err_AB, 'g-o', label = 'oob')\n",
    "plt.title('Error vs. count of trees')\n",
    "plt.xlabel('count of trees')\n",
    "plt.ylabel('error')\n",
    "plt.legend()\n",
    "pass"
   ]
  },
  {
   "cell_type": "markdown",
   "metadata": {},
   "source": [
    "Минимальные значения ошибок на обучающей и тестовой выборке"
   ]
  },
  {
   "cell_type": "code",
   "execution_count": 27,
   "metadata": {},
   "outputs": [
    {
     "name": "stdout",
     "output_type": "stream",
     "text": [
      "0.520547945205 0.72972972973\n"
     ]
    }
   ],
   "source": [
    "min_train_err = np.min(train_err_AB)\n",
    "min_test_err_AB = np.min(test_err_AB)\n",
    "print(min_train_err, min_test_err_AB)"
   ]
  },
  {
   "cell_type": "markdown",
   "metadata": {},
   "source": [
    "Недообучение наблюдается скорее всего, поскольку не достигаются достаточно малые значения на обучающей выборке"
   ]
  },
  {
   "cell_type": "markdown",
   "metadata": {},
   "source": [
    "# Gradient Boosted Trees"
   ]
  },
  {
   "cell_type": "code",
   "execution_count": 28,
   "metadata": {
    "collapsed": true
   },
   "outputs": [],
   "source": [
    "from sklearn.ensemble import GradientBoostingClassifier"
   ]
  },
  {
   "cell_type": "markdown",
   "metadata": {},
   "source": [
    "Массивы ошибок"
   ]
  },
  {
   "cell_type": "code",
   "execution_count": 29,
   "metadata": {
    "collapsed": true
   },
   "outputs": [],
   "source": [
    "test_err_GBT = []\n",
    "train_err_GBT = []\n",
    "oob_err_GBT = []"
   ]
  },
  {
   "cell_type": "code",
   "execution_count": 30,
   "metadata": {
    "collapsed": true
   },
   "outputs": [],
   "source": [
    "import warnings\n",
    "warnings.filterwarnings('ignore')\n",
    "\n",
    "for c in c_arr:\n",
    "    GBT = GradientBoostingClassifier(n_estimators=c)\n",
    "    GBT.fit(X_train, y_train)\n",
    "    \n",
    "    y_train_pred = GBT.predict(X_train)\n",
    "    y_test_pred = GBT.predict(X_test)\n",
    "    \n",
    "    train_err_GBT.append(np.mean(y_train != y_train_pred))\n",
    "    test_err_GBT.append(np.mean(y_test != y_test_pred))"
   ]
  },
  {
   "cell_type": "code",
   "execution_count": 31,
   "metadata": {},
   "outputs": [
    {
     "name": "stdout",
     "output_type": "stream",
     "text": [
      "0.027397260274 0.675675675676\n"
     ]
    }
   ],
   "source": [
    "print(np.mean(y_train != y_train_pred), np.mean(y_test != y_test_pred))"
   ]
  },
  {
   "cell_type": "code",
   "execution_count": 32,
   "metadata": {
    "scrolled": true
   },
   "outputs": [
    {
     "data": {
      "image/png": "[encoded data removed]",
      "text/plain": [
       "<matplotlib.figure.Figure at 0x98b0be0>"
      ]
     },
     "metadata": {},
     "output_type": "display_data"
    }
   ],
   "source": [
    "plt.plot(c_arr, train_err_GBT, 'b-o', label = 'train')\n",
    "plt.plot(c_arr, test_err_GBT, 'r-o', label = 'test')\n",
    "#plt.plot(c_arr, oob_err_GBT, 'g-o', label = 'oob')\n",
    "plt.title('Error vs. count of trees')\n",
    "plt.xlabel('count of trees')\n",
    "plt.ylabel('error')\n",
    "plt.legend()\n",
    "pass"
   ]
  },
  {
   "cell_type": "markdown",
   "metadata": {},
   "source": [
    "Минимальные значения ошибок на обучающей и тестовой выборке"
   ]
  },
  {
   "cell_type": "code",
   "execution_count": 33,
   "metadata": {},
   "outputs": [
    {
     "name": "stdout",
     "output_type": "stream",
     "text": [
      "0.027397260274 0.675675675676\n"
     ]
    }
   ],
   "source": [
    "min_train_err = np.min(train_err_GBT)\n",
    "min_test_err_GBT = np.min(test_err_GBT)\n",
    "print(min_train_err, min_test_err_GBT)"
   ]
  },
  {
   "cell_type": "markdown",
   "metadata": {},
   "source": [
    "Недообучение не наблюдается, поскольку достигаются достаточно малые значения на обучающей выборке\n",
    "Переобучение не наблюдается скорее всего, поскольку на графике ошибка на тестовой выборке колеблется около значения 0,7 , но отсутствуют ее существенные скачки"
   ]
  },
  {
   "cell_type": "markdown",
   "metadata": {},
   "source": [
    "Посмотрим на матрицу рассогласования"
   ]
  },
  {
   "cell_type": "code",
   "execution_count": 34,
   "metadata": {},
   "outputs": [
    {
     "name": "stdout",
     "output_type": "stream",
     "text": [
      "[[2 3 2 1 2]\n",
      " [2 3 0 2 1]\n",
      " [0 1 3 1 0]\n",
      " [0 1 3 2 3]\n",
      " [1 0 1 1 2]]\n"
     ]
    }
   ],
   "source": [
    "from sklearn.metrics import confusion_matrix\n",
    "print(confusion_matrix(y_test_pred, y_test))"
   ]
  },
  {
   "cell_type": "code",
   "execution_count": 35,
   "metadata": {},
   "outputs": [
    {
     "data": {
      "image/png": "[encoded data removed]",
      "text/plain": [
       "<matplotlib.figure.Figure at 0x98b0c88>"
      ]
     },
     "metadata": {},
     "output_type": "display_data"
    }
   ],
   "source": [
    "M = confusion_matrix(y_test_pred, y_test)\n",
    "M = np.sqrt(M)\n",
    "plt.imshow(M, interpolation = 'nearest')\n",
    "plt.set_cmap('binary')\n",
    "plt.xlabel(\"predicted label\")\n",
    "plt.ylabel(\"true label\")\n",
    "plt.colorbar()\n",
    "pass"
   ]
  },
  {
   "cell_type": "markdown",
   "metadata": {},
   "source": [
    "Еще одна метрика качества:"
   ]
  },
  {
   "cell_type": "code",
   "execution_count": 36,
   "metadata": {
    "scrolled": true
   },
   "outputs": [
    {
     "name": "stdout",
     "output_type": "stream",
     "text": [
      "             precision    recall  f1-score   support\n",
      "\n",
      "          0       0.20      0.40      0.27         5\n",
      "          1       0.38      0.38      0.38         8\n",
      "          2       0.60      0.33      0.43         9\n",
      "          3       0.22      0.29      0.25         7\n",
      "          4       0.40      0.25      0.31         8\n",
      "\n",
      "avg / total       0.38      0.32      0.34        37\n",
      "\n"
     ]
    }
   ],
   "source": [
    "from sklearn.metrics import classification_report\n",
    "print(classification_report(y_test, y_test_pred))"
   ]
  },
  {
   "cell_type": "markdown",
   "metadata": {},
   "source": [
    "Сравним графики ошибки на тестовой выборке"
   ]
  },
  {
   "cell_type": "code",
   "execution_count": 37,
   "metadata": {},
   "outputs": [
    {
     "data": {
      "image/png": "[encoded data removed]",
      "text/plain": [
       "<matplotlib.figure.Figure at 0x98b09e8>"
      ]
     },
     "metadata": {},
     "output_type": "display_data"
    }
   ],
   "source": [
    "plt.plot(c_arr, test_err_RF, 'g-o', label = 'RF')\n",
    "plt.plot(c_arr, test_err_ERF, 'm-o', label = 'ERF')\n",
    "plt.plot(c_arr, test_err_AB, 'k-o', label = 'AB')\n",
    "plt.plot(c_arr, test_err_GBT, 'y-o', label = 'GBT')\n",
    "\n",
    "plt.title('Error vs. count of trees for test')\n",
    "plt.xlabel('count of trees')\n",
    "plt.ylabel('error')\n",
    "plt.legend()\n",
    "pass"
   ]
  },
  {
   "cell_type": "code",
   "execution_count": 38,
   "metadata": {},
   "outputs": [
    {
     "name": "stdout",
     "output_type": "stream",
     "text": [
      "0.864864864865 0.891891891892 0.72972972973 0.675675675676\n"
     ]
    }
   ],
   "source": [
    "print(min_test_err_RF, min_test_err_ERF, min_test_err_AB, min_test_err_GBT)"
   ]
  },
  {
   "cell_type": "markdown",
   "metadata": {},
   "source": [
    "На основе полученных графиков можно утверждать, что алгоритмы на обучающей выборке имеют достаточно малую ошибку, на тестовой же имеют ошибку выше.\n",
    "Cамые плохие показатели продемонстрировали Random Forest и Extremely Random Trees"
   ]
  },
  {
   "cell_type": "code",
   "execution_count": null,
   "metadata": {
    "collapsed": true
   },
   "outputs": [],
   "source": []
  }
 ],
 "metadata": {
  "kernelspec": {
   "display_name": "Python 3",
   "language": "python",
   "name": "python3"
  },
  "language_info": {
   "codemirror_mode": {
    "name": "ipython",
    "version": 3
   },
   "file_extension": ".py",
   "mimetype": "text/x-python",
   "name": "python",
   "nbconvert_exporter": "python",
   "pygments_lexer": "ipython3",
   "version": "3.6.1"
  }
 },
 "nbformat": 4,
 "nbformat_minor": 2
}
