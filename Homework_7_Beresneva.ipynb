{
 "cells": [
  {
   "cell_type": "markdown",
   "metadata": {},
   "source": [
    "# ДЗ №7 Береснева Юлия\n",
    "\n",
    "- Data set is \"Meta-data Data Set\" https://archive.ics.uci.edu/ml/datasets/Meta-data\n",
    "- Relevant Information: \n",
    "> This DataSet is about the results of Statlog project. The project performed a comparative study between Statistical, Neural and Symbolic learning algorithms. \n",
    "- Number of Instances: 528\n",
    "- Number of Attributes: 22\n",
    "- Attribute Information:\n",
    " - `DS_Name` - Name of DataSet - название набора данных\n",
    " - `T` - Number of examples in test set - количество примеров в тестовом наборе\n",
    " - `N` - Number of examples - количесвто примеров\n",
    " - `p` - Number of attributes - количесвто атрибутов\n",
    " - `k` - Number of classes - количество классов\n",
    " - `Bin` - Number of binary Attributes - количество бинарных атрибутов\n",
    " - `Cost` - Cost ( `1 = yes`,`0 = no`) - стоимость\n",
    " - `SDratio` - Standard deviation ratio - коэффициент стандартного отклонения\n",
    " - `correl`- Mean correlation between attributes - средняя корреляция между атрибутами\n",
    " - `cancor1` - First canonical correlation - Первая каноническая корреляция\n",
    " - `cancor2` - Second canonical correlation - Вторая каноническая корреляция\n",
    " - `fract1` - First eigenvalue - первое собственное значение\n",
    " - `fract2` - Second eigenvalue - второе собственное значение\n",
    " - `skewness` - Mean of $ \\frac{|E(x - Mean)|^3}{STD^3} $ - асимметрия -  среднее значение $ \\frac{|E(x - Mean)|^3}{STD^3} $\n",
    " - `kurtosis` - Mean of $ \\frac{|E(x - Mean)|^4}{STD^4} $ - среднее значение $ \\frac{|E(x - Mean)|^4}{STD^4} $ \n",
    " - `Hc` - Mean entropy of attributes - средняя энтропия атрибутов\n",
    " - `Hx`- Entropy of classes - энтропия классов\n",
    " - `MCx` - Mean mutual entropy of class and attributes - средняя взаимная энтропия класса и атрибутов\n",
    " - `EnAtr` - Equivalent number of attributes - Эквивалентное количество атрибутов\n",
    " - `NSRatio` - Noise-signal ratio - Отношение сигнал / шум\n",
    " - `Alg_Name` - Name of Algorithm -  имя алгоритма\n",
    " - `Norm_error` - Normalized Error (continuous class) - нормализованная ошибка (непрерывный класс)"
   ]
  },
  {
   "cell_type": "code",
   "execution_count": 1,
   "metadata": {
    "collapsed": true
   },
   "outputs": [],
   "source": [
    "import numpy as np\n",
    "import matplotlib.pyplot as plt\n",
    "import pandas as pd\n",
    "%matplotlib inline"
   ]
  },
  {
   "cell_type": "code",
   "execution_count": 2,
   "metadata": {
    "collapsed": true
   },
   "outputs": [],
   "source": [
    "#url = 'https://archive.ics.uci.edu/ml/machine-learning-databases/meta-data/meta.data'\n",
    "#data = pd.read_csv(url, sep = ',', engine='python')\n",
    "data = pd.read_csv('../source/meta1.data', sep = ',', engine = 'python')"
   ]
  },
  {
   "cell_type": "markdown",
   "metadata": {},
   "source": [
    "Обрабатываем данные и подготавливаем `X` и `y`"
   ]
  },
  {
   "cell_type": "code",
   "execution_count": 3,
   "metadata": {
    "collapsed": true
   },
   "outputs": [],
   "source": [
    "X = data.drop(['DS_Name', 'correl', 'cancor2', 'fract2', 'Alg_Name'], axis = 1) # выбрасываем столбцы\n",
    "y = data['Alg_Name']\n",
    "\n",
    "from sklearn import preprocessing\n",
    "le = preprocessing.LabelEncoder()\n",
    "le.fit(y.unique())\n",
    "y_tr = le.transform(y)"
   ]
  },
  {
   "cell_type": "markdown",
   "metadata": {},
   "source": [
    "# Principal Components Analysis (PCA)\n",
    "\n",
    "Метод главных компонент используется уменьшения числа размерности исходных данных.\n",
    "Рассмотрим его применение к нашим данным. Изначально имеем 18 столбцов - число критериев, равное начальной размерности данных.\n",
    "Попробуем уменьшить размерность до 10"
   ]
  },
  {
   "cell_type": "code",
   "execution_count": 4,
   "metadata": {},
   "outputs": [
    {
     "data": {
      "text/plain": [
       "(528, 10)"
      ]
     },
     "execution_count": 4,
     "metadata": {},
     "output_type": "execute_result"
    }
   ],
   "source": [
    "from sklearn.decomposition import PCA\n",
    "pca = PCA(n_components = 10)\n",
    "pca.fit(X)\n",
    "pca_x = pca.transform(X)\n",
    "pca_x.shape"
   ]
  },
  {
   "cell_type": "markdown",
   "metadata": {},
   "source": [
    "Разбиваем данные на тестовую и обучающую выборки"
   ]
  },
  {
   "cell_type": "code",
   "execution_count": 5,
   "metadata": {
    "collapsed": true
   },
   "outputs": [],
   "source": [
    "from sklearn.model_selection import train_test_split\n",
    "X_train, X_test, y_train, y_test = train_test_split(X, y_tr, test_size = 0.33, random_state = 7)"
   ]
  },
  {
   "cell_type": "markdown",
   "metadata": {},
   "source": [
    "Используем классификатор _Gradient Boosted Trees_ с 30-ю деревьями"
   ]
  },
  {
   "cell_type": "code",
   "execution_count": 6,
   "metadata": {},
   "outputs": [
    {
     "name": "stdout",
     "output_type": "stream",
     "text": [
      "0.124645892351 0.96\n"
     ]
    }
   ],
   "source": [
    "from sklearn.ensemble import GradientBoostingClassifier\n",
    "\n",
    "GBT = GradientBoostingClassifier(n_estimators=30)\n",
    "GBT.fit(X_train, y_train)\n",
    "    \n",
    "y_train_pred = GBT.predict(X_train)\n",
    "y_test_pred = GBT.predict(X_test)\n",
    "     \n",
    "print(np.mean(y_train != y_train_pred), np.mean(y_test != y_test_pred))"
   ]
  },
  {
   "cell_type": "markdown",
   "metadata": {},
   "source": [
    "Судя по значениям ошибок на тестовой и обучающей выборке, наблюдается переобучение"
   ]
  },
  {
   "cell_type": "markdown",
   "metadata": {},
   "source": [
    "Исследуем зависимость ошибки от числа используемых компонент.\n",
    "\n",
    "Массив с числом главных компонент:"
   ]
  },
  {
   "cell_type": "code",
   "execution_count": 7,
   "metadata": {
    "collapsed": true
   },
   "outputs": [],
   "source": [
    "c_arr = np.arange(2,18,1)"
   ]
  },
  {
   "cell_type": "markdown",
   "metadata": {},
   "source": [
    "Изменяя число используемых компонент, построим график зависимости"
   ]
  },
  {
   "cell_type": "code",
   "execution_count": 8,
   "metadata": {
    "collapsed": true
   },
   "outputs": [],
   "source": [
    "test_err_GBT = []\n",
    "train_err_GBT = []\n",
    "\n",
    "for c in c_arr:\n",
    "    pca = PCA(n_components = c)\n",
    "    pca.fit(X)\n",
    "    X_pca = pca.transform(X)\n",
    "    \n",
    "    X_train, X_test, y_train, y_test = train_test_split(X_pca, y_tr, test_size = 0.33, random_state = 7)\n",
    "    \n",
    "    GBT = GradientBoostingClassifier(n_estimators=30)\n",
    "    GBT.fit(X_train, y_train)\n",
    "    \n",
    "    y_train_pred = GBT.predict(X_train)\n",
    "    y_test_pred = GBT.predict(X_test)\n",
    "    \n",
    "    train_err_GBT.append(np.mean(y_train != y_train_pred))\n",
    "    test_err_GBT.append(np.mean(y_test != y_test_pred))"
   ]
  },
  {
   "cell_type": "code",
   "execution_count": 9,
   "metadata": {
    "scrolled": true
   },
   "outputs": [
    {
     "name": "stdout",
     "output_type": "stream",
     "text": [
      "0.116147308782 1.0\n"
     ]
    }
   ],
   "source": [
    "print(np.mean(y_train != y_train_pred), np.mean(y_test != y_test_pred))"
   ]
  },
  {
   "cell_type": "code",
   "execution_count": 10,
   "metadata": {
    "scrolled": true
   },
   "outputs": [
    {
     "data": {
      "image/png": "[encoded data removed]",
      "text/plain": [
       "<matplotlib.figure.Figure at 0xb0c9780>"
      ]
     },
     "metadata": {},
     "output_type": "display_data"
    }
   ],
   "source": [
    "plt.plot(c_arr, train_err_GBT, 'b-o', label = 'train')\n",
    "plt.plot(c_arr, test_err_GBT, 'r-o', label = 'test')\n",
    "\n",
    "plt.title('Error vs. count of components')\n",
    "plt.xlabel('count of components')\n",
    "plt.ylabel('error')\n",
    "plt.legend()\n",
    "pass"
   ]
  },
  {
   "cell_type": "markdown",
   "metadata": {},
   "source": [
    "Судя по полученным результатам, наблюдается переобучение - ошибка на тестовой выборке сильно больше, чем на обучающей\n",
    "Также отметим, что изменение числа главных компонент слабо влияет на значение ошибки"
   ]
  },
  {
   "cell_type": "markdown",
   "metadata": {},
   "source": [
    "Минимальные значения ошибок на обучающей и тестовой выборке"
   ]
  },
  {
   "cell_type": "code",
   "execution_count": 11,
   "metadata": {},
   "outputs": [
    {
     "name": "stdout",
     "output_type": "stream",
     "text": [
      "0.101983002833 0.977142857143\n"
     ]
    }
   ],
   "source": [
    "min_train_err = np.min(train_err_GBT)\n",
    "min_test_err_GBT = np.min(test_err_GBT)\n",
    "print(min_train_err, min_test_err_GBT)"
   ]
  },
  {
   "cell_type": "markdown",
   "metadata": {},
   "source": [
    "Наилучшее число используемых компонент:"
   ]
  },
  {
   "cell_type": "code",
   "execution_count": 12,
   "metadata": {
    "scrolled": true
   },
   "outputs": [
    {
     "name": "stdout",
     "output_type": "stream",
     "text": [
      "[3]\n"
     ]
    }
   ],
   "source": [
    "print(c_arr[test_err_GBT == min_test_err_GBT])"
   ]
  },
  {
   "cell_type": "markdown",
   "metadata": {
    "collapsed": true
   },
   "source": [
    "Исследуем зависимость ошибки от числа используемых компонент с использованием классификатора _AdaBoost_ с 20-ю деревьями"
   ]
  },
  {
   "cell_type": "code",
   "execution_count": 13,
   "metadata": {
    "collapsed": true
   },
   "outputs": [],
   "source": [
    "from sklearn.ensemble import AdaBoostClassifier\n",
    "\n",
    "test_err_AB = []\n",
    "train_err_AB = []\n",
    "oob_err_AB = []\n",
    "\n",
    "for c in c_arr:\n",
    "    pca = PCA(n_components = c)\n",
    "    pca.fit(X)\n",
    "    X_pca = pca.transform(X)\n",
    "    \n",
    "    X_train, X_test, y_train, y_test = train_test_split(X_pca, y_tr, test_size = 0.33, random_state = 7)\n",
    "    \n",
    "    AB = AdaBoostClassifier(n_estimators = 20)\n",
    "    AB.fit(X_train, y_train)\n",
    "    \n",
    "    y_train_pred = AB.predict(X_train)\n",
    "    y_test_pred = AB.predict(X_test)\n",
    "    \n",
    "    train_err_AB.append(np.mean(y_train != y_train_pred))\n",
    "    test_err_AB.append(np.mean(y_test != y_test_pred))"
   ]
  },
  {
   "cell_type": "code",
   "execution_count": 14,
   "metadata": {},
   "outputs": [
    {
     "name": "stdout",
     "output_type": "stream",
     "text": [
      "0.923512747875 0.982857142857\n"
     ]
    }
   ],
   "source": [
    "print(np.mean(y_train != y_train_pred), np.mean(y_test != y_test_pred))"
   ]
  },
  {
   "cell_type": "code",
   "execution_count": 15,
   "metadata": {},
   "outputs": [
    {
     "data": {
      "image/png": "[encoded data removed]",
      "text/plain": [
       "<matplotlib.figure.Figure at 0xb19d1d0>"
      ]
     },
     "metadata": {},
     "output_type": "display_data"
    }
   ],
   "source": [
    "plt.plot(c_arr, train_err_AB, 'b-o', label = 'train')\n",
    "plt.plot(c_arr, test_err_AB, 'r-o', label = 'test')\n",
    "plt.title('Error vs. count of components')\n",
    "plt.xlabel('count of components')\n",
    "plt.ylabel('error')\n",
    "plt.legend()\n",
    "pass"
   ]
  },
  {
   "cell_type": "markdown",
   "metadata": {},
   "source": [
    "Судя по полученным результатам, наблюдается недообучение - ошибка на тестовой и обучающей выборках сильно большая. Также отметим, что изменение числа главных компонент в малой степени влияет на значение ошибки"
   ]
  },
  {
   "cell_type": "markdown",
   "metadata": {},
   "source": [
    "Минимальные значения ошибок на обучающей и тестовой выборке"
   ]
  },
  {
   "cell_type": "code",
   "execution_count": 16,
   "metadata": {},
   "outputs": [
    {
     "name": "stdout",
     "output_type": "stream",
     "text": [
      "0.898016997167 0.937142857143\n"
     ]
    }
   ],
   "source": [
    "min_train_err = np.min(train_err_AB)\n",
    "min_test_err_AB = np.min(test_err_AB)\n",
    "print(min_train_err, min_test_err_AB)"
   ]
  },
  {
   "cell_type": "markdown",
   "metadata": {},
   "source": [
    "Наилучшее число используемых компонент:"
   ]
  },
  {
   "cell_type": "code",
   "execution_count": 17,
   "metadata": {
    "scrolled": true
   },
   "outputs": [
    {
     "name": "stdout",
     "output_type": "stream",
     "text": [
      "[7]\n"
     ]
    }
   ],
   "source": [
    "print(c_arr[test_err_AB == min_test_err_AB])"
   ]
  },
  {
   "cell_type": "code",
   "execution_count": null,
   "metadata": {
    "collapsed": true
   },
   "outputs": [],
   "source": []
  }
 ],
 "metadata": {
  "kernelspec": {
   "display_name": "Python 3",
   "language": "python",
   "name": "python3"
  },
  "language_info": {
   "codemirror_mode": {
    "name": "ipython",
    "version": 3
   },
   "file_extension": ".py",
   "mimetype": "text/x-python",
   "name": "python",
   "nbconvert_exporter": "python",
   "pygments_lexer": "ipython3",
   "version": "3.6.1"
  }
 },
 "nbformat": 4,
 "nbformat_minor": 2
}
